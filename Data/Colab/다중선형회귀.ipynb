{
  "nbformat": 4,
  "nbformat_minor": 0,
  "metadata": {
    "colab": {
      "provenance": [],
      "toc_visible": true
    },
    "kernelspec": {
      "name": "python3",
      "display_name": "Python 3"
    },
    "language_info": {
      "name": "python"
    }
  },
  "cells": [
    {
      "cell_type": "markdown",
      "source": [
        "# 라이브러리 Import"
      ],
      "metadata": {
        "id": "b-1Rhp8-io42"
      }
    },
    {
      "cell_type": "code",
      "execution_count": null,
      "metadata": {
        "id": "U-Dm8wnoMsYV"
      },
      "outputs": [],
      "source": [
        "import seaborn as sns\n",
        "import plotly.graph_objects as go\n",
        "import matplotlib.pyplot as plt\n",
        "import pandas as pd\n",
        "df = pd.read_csv('/content/test_scores.csv')"
      ]
    },
    {
      "cell_type": "code",
      "source": [
        "df.head()"
      ],
      "metadata": {
        "colab": {
          "base_uri": "https://localhost:8080/",
          "height": 206
        },
        "id": "5fAqIaV9NYS3",
        "outputId": "4deb1587-2ffa-45e1-cf0a-8253dde9f750"
      },
      "execution_count": null,
      "outputs": [
        {
          "output_type": "execute_result",
          "data": {
            "text/plain": [
              "  school school_setting school_type classroom teaching_method  n_student  \\\n",
              "0  ANKYI          Urban  Non-public       6OL        Standard       20.0   \n",
              "1  ANKYI          Urban  Non-public       6OL        Standard       20.0   \n",
              "2  ANKYI          Urban  Non-public       6OL        Standard       20.0   \n",
              "3  ANKYI          Urban  Non-public       6OL        Standard       20.0   \n",
              "4  ANKYI          Urban  Non-public       6OL        Standard       20.0   \n",
              "\n",
              "  student_id  gender             lunch  pretest  posttest  \n",
              "0      2FHT3  Female  Does not qualify     62.0      72.0  \n",
              "1      3JIVH  Female  Does not qualify     66.0      79.0  \n",
              "2      3XOWE    Male  Does not qualify     64.0      76.0  \n",
              "3      556O0  Female  Does not qualify     61.0      77.0  \n",
              "4      74LOE    Male  Does not qualify     64.0      76.0  "
            ],
            "text/html": [
              "\n",
              "  <div id=\"df-55d47c46-cd06-4471-865b-38bec59dce6b\">\n",
              "    <div class=\"colab-df-container\">\n",
              "      <div>\n",
              "<style scoped>\n",
              "    .dataframe tbody tr th:only-of-type {\n",
              "        vertical-align: middle;\n",
              "    }\n",
              "\n",
              "    .dataframe tbody tr th {\n",
              "        vertical-align: top;\n",
              "    }\n",
              "\n",
              "    .dataframe thead th {\n",
              "        text-align: right;\n",
              "    }\n",
              "</style>\n",
              "<table border=\"1\" class=\"dataframe\">\n",
              "  <thead>\n",
              "    <tr style=\"text-align: right;\">\n",
              "      <th></th>\n",
              "      <th>school</th>\n",
              "      <th>school_setting</th>\n",
              "      <th>school_type</th>\n",
              "      <th>classroom</th>\n",
              "      <th>teaching_method</th>\n",
              "      <th>n_student</th>\n",
              "      <th>student_id</th>\n",
              "      <th>gender</th>\n",
              "      <th>lunch</th>\n",
              "      <th>pretest</th>\n",
              "      <th>posttest</th>\n",
              "    </tr>\n",
              "  </thead>\n",
              "  <tbody>\n",
              "    <tr>\n",
              "      <th>0</th>\n",
              "      <td>ANKYI</td>\n",
              "      <td>Urban</td>\n",
              "      <td>Non-public</td>\n",
              "      <td>6OL</td>\n",
              "      <td>Standard</td>\n",
              "      <td>20.0</td>\n",
              "      <td>2FHT3</td>\n",
              "      <td>Female</td>\n",
              "      <td>Does not qualify</td>\n",
              "      <td>62.0</td>\n",
              "      <td>72.0</td>\n",
              "    </tr>\n",
              "    <tr>\n",
              "      <th>1</th>\n",
              "      <td>ANKYI</td>\n",
              "      <td>Urban</td>\n",
              "      <td>Non-public</td>\n",
              "      <td>6OL</td>\n",
              "      <td>Standard</td>\n",
              "      <td>20.0</td>\n",
              "      <td>3JIVH</td>\n",
              "      <td>Female</td>\n",
              "      <td>Does not qualify</td>\n",
              "      <td>66.0</td>\n",
              "      <td>79.0</td>\n",
              "    </tr>\n",
              "    <tr>\n",
              "      <th>2</th>\n",
              "      <td>ANKYI</td>\n",
              "      <td>Urban</td>\n",
              "      <td>Non-public</td>\n",
              "      <td>6OL</td>\n",
              "      <td>Standard</td>\n",
              "      <td>20.0</td>\n",
              "      <td>3XOWE</td>\n",
              "      <td>Male</td>\n",
              "      <td>Does not qualify</td>\n",
              "      <td>64.0</td>\n",
              "      <td>76.0</td>\n",
              "    </tr>\n",
              "    <tr>\n",
              "      <th>3</th>\n",
              "      <td>ANKYI</td>\n",
              "      <td>Urban</td>\n",
              "      <td>Non-public</td>\n",
              "      <td>6OL</td>\n",
              "      <td>Standard</td>\n",
              "      <td>20.0</td>\n",
              "      <td>556O0</td>\n",
              "      <td>Female</td>\n",
              "      <td>Does not qualify</td>\n",
              "      <td>61.0</td>\n",
              "      <td>77.0</td>\n",
              "    </tr>\n",
              "    <tr>\n",
              "      <th>4</th>\n",
              "      <td>ANKYI</td>\n",
              "      <td>Urban</td>\n",
              "      <td>Non-public</td>\n",
              "      <td>6OL</td>\n",
              "      <td>Standard</td>\n",
              "      <td>20.0</td>\n",
              "      <td>74LOE</td>\n",
              "      <td>Male</td>\n",
              "      <td>Does not qualify</td>\n",
              "      <td>64.0</td>\n",
              "      <td>76.0</td>\n",
              "    </tr>\n",
              "  </tbody>\n",
              "</table>\n",
              "</div>\n",
              "      <button class=\"colab-df-convert\" onclick=\"convertToInteractive('df-55d47c46-cd06-4471-865b-38bec59dce6b')\"\n",
              "              title=\"Convert this dataframe to an interactive table.\"\n",
              "              style=\"display:none;\">\n",
              "        \n",
              "  <svg xmlns=\"http://www.w3.org/2000/svg\" height=\"24px\"viewBox=\"0 0 24 24\"\n",
              "       width=\"24px\">\n",
              "    <path d=\"M0 0h24v24H0V0z\" fill=\"none\"/>\n",
              "    <path d=\"M18.56 5.44l.94 2.06.94-2.06 2.06-.94-2.06-.94-.94-2.06-.94 2.06-2.06.94zm-11 1L8.5 8.5l.94-2.06 2.06-.94-2.06-.94L8.5 2.5l-.94 2.06-2.06.94zm10 10l.94 2.06.94-2.06 2.06-.94-2.06-.94-.94-2.06-.94 2.06-2.06.94z\"/><path d=\"M17.41 7.96l-1.37-1.37c-.4-.4-.92-.59-1.43-.59-.52 0-1.04.2-1.43.59L10.3 9.45l-7.72 7.72c-.78.78-.78 2.05 0 2.83L4 21.41c.39.39.9.59 1.41.59.51 0 1.02-.2 1.41-.59l7.78-7.78 2.81-2.81c.8-.78.8-2.07 0-2.86zM5.41 20L4 18.59l7.72-7.72 1.47 1.35L5.41 20z\"/>\n",
              "  </svg>\n",
              "      </button>\n",
              "      \n",
              "  <style>\n",
              "    .colab-df-container {\n",
              "      display:flex;\n",
              "      flex-wrap:wrap;\n",
              "      gap: 12px;\n",
              "    }\n",
              "\n",
              "    .colab-df-convert {\n",
              "      background-color: #E8F0FE;\n",
              "      border: none;\n",
              "      border-radius: 50%;\n",
              "      cursor: pointer;\n",
              "      display: none;\n",
              "      fill: #1967D2;\n",
              "      height: 32px;\n",
              "      padding: 0 0 0 0;\n",
              "      width: 32px;\n",
              "    }\n",
              "\n",
              "    .colab-df-convert:hover {\n",
              "      background-color: #E2EBFA;\n",
              "      box-shadow: 0px 1px 2px rgba(60, 64, 67, 0.3), 0px 1px 3px 1px rgba(60, 64, 67, 0.15);\n",
              "      fill: #174EA6;\n",
              "    }\n",
              "\n",
              "    [theme=dark] .colab-df-convert {\n",
              "      background-color: #3B4455;\n",
              "      fill: #D2E3FC;\n",
              "    }\n",
              "\n",
              "    [theme=dark] .colab-df-convert:hover {\n",
              "      background-color: #434B5C;\n",
              "      box-shadow: 0px 1px 3px 1px rgba(0, 0, 0, 0.15);\n",
              "      filter: drop-shadow(0px 1px 2px rgba(0, 0, 0, 0.3));\n",
              "      fill: #FFFFFF;\n",
              "    }\n",
              "  </style>\n",
              "\n",
              "      <script>\n",
              "        const buttonEl =\n",
              "          document.querySelector('#df-55d47c46-cd06-4471-865b-38bec59dce6b button.colab-df-convert');\n",
              "        buttonEl.style.display =\n",
              "          google.colab.kernel.accessAllowed ? 'block' : 'none';\n",
              "\n",
              "        async function convertToInteractive(key) {\n",
              "          const element = document.querySelector('#df-55d47c46-cd06-4471-865b-38bec59dce6b');\n",
              "          const dataTable =\n",
              "            await google.colab.kernel.invokeFunction('convertToInteractive',\n",
              "                                                     [key], {});\n",
              "          if (!dataTable) return;\n",
              "\n",
              "          const docLinkHtml = 'Like what you see? Visit the ' +\n",
              "            '<a target=\"_blank\" href=https://colab.research.google.com/notebooks/data_table.ipynb>data table notebook</a>'\n",
              "            + ' to learn more about interactive tables.';\n",
              "          element.innerHTML = '';\n",
              "          dataTable['output_type'] = 'display_data';\n",
              "          await google.colab.output.renderOutput(dataTable, element);\n",
              "          const docLink = document.createElement('div');\n",
              "          docLink.innerHTML = docLinkHtml;\n",
              "          element.appendChild(docLink);\n",
              "        }\n",
              "      </script>\n",
              "    </div>\n",
              "  </div>\n",
              "  "
            ]
          },
          "metadata": {},
          "execution_count": 2
        }
      ]
    },
    {
      "cell_type": "code",
      "source": [
        "df.tail()"
      ],
      "metadata": {
        "colab": {
          "base_uri": "https://localhost:8080/",
          "height": 206
        },
        "id": "g3zOwIsCNcWh",
        "outputId": "4dc08407-e817-4f40-c3a4-b5b74d5aa130"
      },
      "execution_count": null,
      "outputs": [
        {
          "output_type": "execute_result",
          "data": {
            "text/plain": [
              "     school school_setting school_type classroom teaching_method  n_student  \\\n",
              "2128  ZOWMK          Urban      Public       ZBH        Standard       30.0   \n",
              "2129  ZOWMK          Urban      Public       ZBH        Standard       30.0   \n",
              "2130  ZOWMK          Urban      Public       ZBH        Standard       30.0   \n",
              "2131  ZOWMK          Urban      Public       ZBH        Standard       30.0   \n",
              "2132  ZOWMK          Urban      Public       ZBH        Standard       30.0   \n",
              "\n",
              "     student_id  gender                             lunch  pretest  posttest  \n",
              "2128      T8LSK  Female                  Does not qualify     39.0      55.0  \n",
              "2129      VNP26  Female  Qualifies for reduced/free lunch     38.0      46.0  \n",
              "2130      YDR1Z  Female  Qualifies for reduced/free lunch     45.0      51.0  \n",
              "2131      YUEIH    Male  Qualifies for reduced/free lunch     46.0      53.0  \n",
              "2132      ZVCQ8    Male  Qualifies for reduced/free lunch     41.0      48.0  "
            ],
            "text/html": [
              "\n",
              "  <div id=\"df-06630d6a-eeca-40b5-ae94-5925ee02b1a9\">\n",
              "    <div class=\"colab-df-container\">\n",
              "      <div>\n",
              "<style scoped>\n",
              "    .dataframe tbody tr th:only-of-type {\n",
              "        vertical-align: middle;\n",
              "    }\n",
              "\n",
              "    .dataframe tbody tr th {\n",
              "        vertical-align: top;\n",
              "    }\n",
              "\n",
              "    .dataframe thead th {\n",
              "        text-align: right;\n",
              "    }\n",
              "</style>\n",
              "<table border=\"1\" class=\"dataframe\">\n",
              "  <thead>\n",
              "    <tr style=\"text-align: right;\">\n",
              "      <th></th>\n",
              "      <th>school</th>\n",
              "      <th>school_setting</th>\n",
              "      <th>school_type</th>\n",
              "      <th>classroom</th>\n",
              "      <th>teaching_method</th>\n",
              "      <th>n_student</th>\n",
              "      <th>student_id</th>\n",
              "      <th>gender</th>\n",
              "      <th>lunch</th>\n",
              "      <th>pretest</th>\n",
              "      <th>posttest</th>\n",
              "    </tr>\n",
              "  </thead>\n",
              "  <tbody>\n",
              "    <tr>\n",
              "      <th>2128</th>\n",
              "      <td>ZOWMK</td>\n",
              "      <td>Urban</td>\n",
              "      <td>Public</td>\n",
              "      <td>ZBH</td>\n",
              "      <td>Standard</td>\n",
              "      <td>30.0</td>\n",
              "      <td>T8LSK</td>\n",
              "      <td>Female</td>\n",
              "      <td>Does not qualify</td>\n",
              "      <td>39.0</td>\n",
              "      <td>55.0</td>\n",
              "    </tr>\n",
              "    <tr>\n",
              "      <th>2129</th>\n",
              "      <td>ZOWMK</td>\n",
              "      <td>Urban</td>\n",
              "      <td>Public</td>\n",
              "      <td>ZBH</td>\n",
              "      <td>Standard</td>\n",
              "      <td>30.0</td>\n",
              "      <td>VNP26</td>\n",
              "      <td>Female</td>\n",
              "      <td>Qualifies for reduced/free lunch</td>\n",
              "      <td>38.0</td>\n",
              "      <td>46.0</td>\n",
              "    </tr>\n",
              "    <tr>\n",
              "      <th>2130</th>\n",
              "      <td>ZOWMK</td>\n",
              "      <td>Urban</td>\n",
              "      <td>Public</td>\n",
              "      <td>ZBH</td>\n",
              "      <td>Standard</td>\n",
              "      <td>30.0</td>\n",
              "      <td>YDR1Z</td>\n",
              "      <td>Female</td>\n",
              "      <td>Qualifies for reduced/free lunch</td>\n",
              "      <td>45.0</td>\n",
              "      <td>51.0</td>\n",
              "    </tr>\n",
              "    <tr>\n",
              "      <th>2131</th>\n",
              "      <td>ZOWMK</td>\n",
              "      <td>Urban</td>\n",
              "      <td>Public</td>\n",
              "      <td>ZBH</td>\n",
              "      <td>Standard</td>\n",
              "      <td>30.0</td>\n",
              "      <td>YUEIH</td>\n",
              "      <td>Male</td>\n",
              "      <td>Qualifies for reduced/free lunch</td>\n",
              "      <td>46.0</td>\n",
              "      <td>53.0</td>\n",
              "    </tr>\n",
              "    <tr>\n",
              "      <th>2132</th>\n",
              "      <td>ZOWMK</td>\n",
              "      <td>Urban</td>\n",
              "      <td>Public</td>\n",
              "      <td>ZBH</td>\n",
              "      <td>Standard</td>\n",
              "      <td>30.0</td>\n",
              "      <td>ZVCQ8</td>\n",
              "      <td>Male</td>\n",
              "      <td>Qualifies for reduced/free lunch</td>\n",
              "      <td>41.0</td>\n",
              "      <td>48.0</td>\n",
              "    </tr>\n",
              "  </tbody>\n",
              "</table>\n",
              "</div>\n",
              "      <button class=\"colab-df-convert\" onclick=\"convertToInteractive('df-06630d6a-eeca-40b5-ae94-5925ee02b1a9')\"\n",
              "              title=\"Convert this dataframe to an interactive table.\"\n",
              "              style=\"display:none;\">\n",
              "        \n",
              "  <svg xmlns=\"http://www.w3.org/2000/svg\" height=\"24px\"viewBox=\"0 0 24 24\"\n",
              "       width=\"24px\">\n",
              "    <path d=\"M0 0h24v24H0V0z\" fill=\"none\"/>\n",
              "    <path d=\"M18.56 5.44l.94 2.06.94-2.06 2.06-.94-2.06-.94-.94-2.06-.94 2.06-2.06.94zm-11 1L8.5 8.5l.94-2.06 2.06-.94-2.06-.94L8.5 2.5l-.94 2.06-2.06.94zm10 10l.94 2.06.94-2.06 2.06-.94-2.06-.94-.94-2.06-.94 2.06-2.06.94z\"/><path d=\"M17.41 7.96l-1.37-1.37c-.4-.4-.92-.59-1.43-.59-.52 0-1.04.2-1.43.59L10.3 9.45l-7.72 7.72c-.78.78-.78 2.05 0 2.83L4 21.41c.39.39.9.59 1.41.59.51 0 1.02-.2 1.41-.59l7.78-7.78 2.81-2.81c.8-.78.8-2.07 0-2.86zM5.41 20L4 18.59l7.72-7.72 1.47 1.35L5.41 20z\"/>\n",
              "  </svg>\n",
              "      </button>\n",
              "      \n",
              "  <style>\n",
              "    .colab-df-container {\n",
              "      display:flex;\n",
              "      flex-wrap:wrap;\n",
              "      gap: 12px;\n",
              "    }\n",
              "\n",
              "    .colab-df-convert {\n",
              "      background-color: #E8F0FE;\n",
              "      border: none;\n",
              "      border-radius: 50%;\n",
              "      cursor: pointer;\n",
              "      display: none;\n",
              "      fill: #1967D2;\n",
              "      height: 32px;\n",
              "      padding: 0 0 0 0;\n",
              "      width: 32px;\n",
              "    }\n",
              "\n",
              "    .colab-df-convert:hover {\n",
              "      background-color: #E2EBFA;\n",
              "      box-shadow: 0px 1px 2px rgba(60, 64, 67, 0.3), 0px 1px 3px 1px rgba(60, 64, 67, 0.15);\n",
              "      fill: #174EA6;\n",
              "    }\n",
              "\n",
              "    [theme=dark] .colab-df-convert {\n",
              "      background-color: #3B4455;\n",
              "      fill: #D2E3FC;\n",
              "    }\n",
              "\n",
              "    [theme=dark] .colab-df-convert:hover {\n",
              "      background-color: #434B5C;\n",
              "      box-shadow: 0px 1px 3px 1px rgba(0, 0, 0, 0.15);\n",
              "      filter: drop-shadow(0px 1px 2px rgba(0, 0, 0, 0.3));\n",
              "      fill: #FFFFFF;\n",
              "    }\n",
              "  </style>\n",
              "\n",
              "      <script>\n",
              "        const buttonEl =\n",
              "          document.querySelector('#df-06630d6a-eeca-40b5-ae94-5925ee02b1a9 button.colab-df-convert');\n",
              "        buttonEl.style.display =\n",
              "          google.colab.kernel.accessAllowed ? 'block' : 'none';\n",
              "\n",
              "        async function convertToInteractive(key) {\n",
              "          const element = document.querySelector('#df-06630d6a-eeca-40b5-ae94-5925ee02b1a9');\n",
              "          const dataTable =\n",
              "            await google.colab.kernel.invokeFunction('convertToInteractive',\n",
              "                                                     [key], {});\n",
              "          if (!dataTable) return;\n",
              "\n",
              "          const docLinkHtml = 'Like what you see? Visit the ' +\n",
              "            '<a target=\"_blank\" href=https://colab.research.google.com/notebooks/data_table.ipynb>data table notebook</a>'\n",
              "            + ' to learn more about interactive tables.';\n",
              "          element.innerHTML = '';\n",
              "          dataTable['output_type'] = 'display_data';\n",
              "          await google.colab.output.renderOutput(dataTable, element);\n",
              "          const docLink = document.createElement('div');\n",
              "          docLink.innerHTML = docLinkHtml;\n",
              "          element.appendChild(docLink);\n",
              "        }\n",
              "      </script>\n",
              "    </div>\n",
              "  </div>\n",
              "  "
            ]
          },
          "metadata": {},
          "execution_count": 3
        }
      ]
    },
    {
      "cell_type": "code",
      "source": [
        "df.info()\n",
        "df['school_setting'].value_counts()"
      ],
      "metadata": {
        "colab": {
          "base_uri": "https://localhost:8080/"
        },
        "id": "cpF9Yvu0NfJc",
        "outputId": "a5e03147-a0ac-4513-81e0-0f0eceb592d7"
      },
      "execution_count": null,
      "outputs": [
        {
          "output_type": "stream",
          "name": "stdout",
          "text": [
            "<class 'pandas.core.frame.DataFrame'>\n",
            "RangeIndex: 2133 entries, 0 to 2132\n",
            "Data columns (total 11 columns):\n",
            " #   Column           Non-Null Count  Dtype  \n",
            "---  ------           --------------  -----  \n",
            " 0   school           2133 non-null   object \n",
            " 1   school_setting   2133 non-null   object \n",
            " 2   school_type      2133 non-null   object \n",
            " 3   classroom        2133 non-null   object \n",
            " 4   teaching_method  2133 non-null   object \n",
            " 5   n_student        2133 non-null   float64\n",
            " 6   student_id       2133 non-null   object \n",
            " 7   gender           2133 non-null   object \n",
            " 8   lunch            2133 non-null   object \n",
            " 9   pretest          2133 non-null   float64\n",
            " 10  posttest         2133 non-null   float64\n",
            "dtypes: float64(3), object(8)\n",
            "memory usage: 183.4+ KB\n"
          ]
        },
        {
          "output_type": "execute_result",
          "data": {
            "text/plain": [
              "Urban       906\n",
              "Suburban    717\n",
              "Rural       510\n",
              "Name: school_setting, dtype: int64"
            ]
          },
          "metadata": {},
          "execution_count": 10
        }
      ]
    },
    {
      "cell_type": "markdown",
      "source": [
        "## 데이터 전처리"
      ],
      "metadata": {
        "id": "M-i_TIf2iuls"
      }
    },
    {
      "cell_type": "code",
      "source": [
        "df1 = df.drop(['school','classroom','student_id'], axis=1)\n",
        "df1"
      ],
      "metadata": {
        "colab": {
          "base_uri": "https://localhost:8080/",
          "height": 537
        },
        "id": "GVmSmeE5RpJr",
        "outputId": "6871e96b-5d03-40e5-df1d-c8796251ead4"
      },
      "execution_count": null,
      "outputs": [
        {
          "output_type": "execute_result",
          "data": {
            "text/plain": [
              "     school_setting school_type teaching_method  n_student  gender  \\\n",
              "0             Urban  Non-public        Standard       20.0  Female   \n",
              "1             Urban  Non-public        Standard       20.0  Female   \n",
              "2             Urban  Non-public        Standard       20.0    Male   \n",
              "3             Urban  Non-public        Standard       20.0  Female   \n",
              "4             Urban  Non-public        Standard       20.0    Male   \n",
              "...             ...         ...             ...        ...     ...   \n",
              "2128          Urban      Public        Standard       30.0  Female   \n",
              "2129          Urban      Public        Standard       30.0  Female   \n",
              "2130          Urban      Public        Standard       30.0  Female   \n",
              "2131          Urban      Public        Standard       30.0    Male   \n",
              "2132          Urban      Public        Standard       30.0    Male   \n",
              "\n",
              "                                 lunch  pretest  posttest  \n",
              "0                     Does not qualify     62.0      72.0  \n",
              "1                     Does not qualify     66.0      79.0  \n",
              "2                     Does not qualify     64.0      76.0  \n",
              "3                     Does not qualify     61.0      77.0  \n",
              "4                     Does not qualify     64.0      76.0  \n",
              "...                                ...      ...       ...  \n",
              "2128                  Does not qualify     39.0      55.0  \n",
              "2129  Qualifies for reduced/free lunch     38.0      46.0  \n",
              "2130  Qualifies for reduced/free lunch     45.0      51.0  \n",
              "2131  Qualifies for reduced/free lunch     46.0      53.0  \n",
              "2132  Qualifies for reduced/free lunch     41.0      48.0  \n",
              "\n",
              "[2133 rows x 8 columns]"
            ],
            "text/html": [
              "\n",
              "  <div id=\"df-04d19c90-41c5-4e6a-9789-e1392fbcc9e3\">\n",
              "    <div class=\"colab-df-container\">\n",
              "      <div>\n",
              "<style scoped>\n",
              "    .dataframe tbody tr th:only-of-type {\n",
              "        vertical-align: middle;\n",
              "    }\n",
              "\n",
              "    .dataframe tbody tr th {\n",
              "        vertical-align: top;\n",
              "    }\n",
              "\n",
              "    .dataframe thead th {\n",
              "        text-align: right;\n",
              "    }\n",
              "</style>\n",
              "<table border=\"1\" class=\"dataframe\">\n",
              "  <thead>\n",
              "    <tr style=\"text-align: right;\">\n",
              "      <th></th>\n",
              "      <th>school_setting</th>\n",
              "      <th>school_type</th>\n",
              "      <th>teaching_method</th>\n",
              "      <th>n_student</th>\n",
              "      <th>gender</th>\n",
              "      <th>lunch</th>\n",
              "      <th>pretest</th>\n",
              "      <th>posttest</th>\n",
              "    </tr>\n",
              "  </thead>\n",
              "  <tbody>\n",
              "    <tr>\n",
              "      <th>0</th>\n",
              "      <td>Urban</td>\n",
              "      <td>Non-public</td>\n",
              "      <td>Standard</td>\n",
              "      <td>20.0</td>\n",
              "      <td>Female</td>\n",
              "      <td>Does not qualify</td>\n",
              "      <td>62.0</td>\n",
              "      <td>72.0</td>\n",
              "    </tr>\n",
              "    <tr>\n",
              "      <th>1</th>\n",
              "      <td>Urban</td>\n",
              "      <td>Non-public</td>\n",
              "      <td>Standard</td>\n",
              "      <td>20.0</td>\n",
              "      <td>Female</td>\n",
              "      <td>Does not qualify</td>\n",
              "      <td>66.0</td>\n",
              "      <td>79.0</td>\n",
              "    </tr>\n",
              "    <tr>\n",
              "      <th>2</th>\n",
              "      <td>Urban</td>\n",
              "      <td>Non-public</td>\n",
              "      <td>Standard</td>\n",
              "      <td>20.0</td>\n",
              "      <td>Male</td>\n",
              "      <td>Does not qualify</td>\n",
              "      <td>64.0</td>\n",
              "      <td>76.0</td>\n",
              "    </tr>\n",
              "    <tr>\n",
              "      <th>3</th>\n",
              "      <td>Urban</td>\n",
              "      <td>Non-public</td>\n",
              "      <td>Standard</td>\n",
              "      <td>20.0</td>\n",
              "      <td>Female</td>\n",
              "      <td>Does not qualify</td>\n",
              "      <td>61.0</td>\n",
              "      <td>77.0</td>\n",
              "    </tr>\n",
              "    <tr>\n",
              "      <th>4</th>\n",
              "      <td>Urban</td>\n",
              "      <td>Non-public</td>\n",
              "      <td>Standard</td>\n",
              "      <td>20.0</td>\n",
              "      <td>Male</td>\n",
              "      <td>Does not qualify</td>\n",
              "      <td>64.0</td>\n",
              "      <td>76.0</td>\n",
              "    </tr>\n",
              "    <tr>\n",
              "      <th>...</th>\n",
              "      <td>...</td>\n",
              "      <td>...</td>\n",
              "      <td>...</td>\n",
              "      <td>...</td>\n",
              "      <td>...</td>\n",
              "      <td>...</td>\n",
              "      <td>...</td>\n",
              "      <td>...</td>\n",
              "    </tr>\n",
              "    <tr>\n",
              "      <th>2128</th>\n",
              "      <td>Urban</td>\n",
              "      <td>Public</td>\n",
              "      <td>Standard</td>\n",
              "      <td>30.0</td>\n",
              "      <td>Female</td>\n",
              "      <td>Does not qualify</td>\n",
              "      <td>39.0</td>\n",
              "      <td>55.0</td>\n",
              "    </tr>\n",
              "    <tr>\n",
              "      <th>2129</th>\n",
              "      <td>Urban</td>\n",
              "      <td>Public</td>\n",
              "      <td>Standard</td>\n",
              "      <td>30.0</td>\n",
              "      <td>Female</td>\n",
              "      <td>Qualifies for reduced/free lunch</td>\n",
              "      <td>38.0</td>\n",
              "      <td>46.0</td>\n",
              "    </tr>\n",
              "    <tr>\n",
              "      <th>2130</th>\n",
              "      <td>Urban</td>\n",
              "      <td>Public</td>\n",
              "      <td>Standard</td>\n",
              "      <td>30.0</td>\n",
              "      <td>Female</td>\n",
              "      <td>Qualifies for reduced/free lunch</td>\n",
              "      <td>45.0</td>\n",
              "      <td>51.0</td>\n",
              "    </tr>\n",
              "    <tr>\n",
              "      <th>2131</th>\n",
              "      <td>Urban</td>\n",
              "      <td>Public</td>\n",
              "      <td>Standard</td>\n",
              "      <td>30.0</td>\n",
              "      <td>Male</td>\n",
              "      <td>Qualifies for reduced/free lunch</td>\n",
              "      <td>46.0</td>\n",
              "      <td>53.0</td>\n",
              "    </tr>\n",
              "    <tr>\n",
              "      <th>2132</th>\n",
              "      <td>Urban</td>\n",
              "      <td>Public</td>\n",
              "      <td>Standard</td>\n",
              "      <td>30.0</td>\n",
              "      <td>Male</td>\n",
              "      <td>Qualifies for reduced/free lunch</td>\n",
              "      <td>41.0</td>\n",
              "      <td>48.0</td>\n",
              "    </tr>\n",
              "  </tbody>\n",
              "</table>\n",
              "<p>2133 rows × 8 columns</p>\n",
              "</div>\n",
              "      <button class=\"colab-df-convert\" onclick=\"convertToInteractive('df-04d19c90-41c5-4e6a-9789-e1392fbcc9e3')\"\n",
              "              title=\"Convert this dataframe to an interactive table.\"\n",
              "              style=\"display:none;\">\n",
              "        \n",
              "  <svg xmlns=\"http://www.w3.org/2000/svg\" height=\"24px\"viewBox=\"0 0 24 24\"\n",
              "       width=\"24px\">\n",
              "    <path d=\"M0 0h24v24H0V0z\" fill=\"none\"/>\n",
              "    <path d=\"M18.56 5.44l.94 2.06.94-2.06 2.06-.94-2.06-.94-.94-2.06-.94 2.06-2.06.94zm-11 1L8.5 8.5l.94-2.06 2.06-.94-2.06-.94L8.5 2.5l-.94 2.06-2.06.94zm10 10l.94 2.06.94-2.06 2.06-.94-2.06-.94-.94-2.06-.94 2.06-2.06.94z\"/><path d=\"M17.41 7.96l-1.37-1.37c-.4-.4-.92-.59-1.43-.59-.52 0-1.04.2-1.43.59L10.3 9.45l-7.72 7.72c-.78.78-.78 2.05 0 2.83L4 21.41c.39.39.9.59 1.41.59.51 0 1.02-.2 1.41-.59l7.78-7.78 2.81-2.81c.8-.78.8-2.07 0-2.86zM5.41 20L4 18.59l7.72-7.72 1.47 1.35L5.41 20z\"/>\n",
              "  </svg>\n",
              "      </button>\n",
              "      \n",
              "  <style>\n",
              "    .colab-df-container {\n",
              "      display:flex;\n",
              "      flex-wrap:wrap;\n",
              "      gap: 12px;\n",
              "    }\n",
              "\n",
              "    .colab-df-convert {\n",
              "      background-color: #E8F0FE;\n",
              "      border: none;\n",
              "      border-radius: 50%;\n",
              "      cursor: pointer;\n",
              "      display: none;\n",
              "      fill: #1967D2;\n",
              "      height: 32px;\n",
              "      padding: 0 0 0 0;\n",
              "      width: 32px;\n",
              "    }\n",
              "\n",
              "    .colab-df-convert:hover {\n",
              "      background-color: #E2EBFA;\n",
              "      box-shadow: 0px 1px 2px rgba(60, 64, 67, 0.3), 0px 1px 3px 1px rgba(60, 64, 67, 0.15);\n",
              "      fill: #174EA6;\n",
              "    }\n",
              "\n",
              "    [theme=dark] .colab-df-convert {\n",
              "      background-color: #3B4455;\n",
              "      fill: #D2E3FC;\n",
              "    }\n",
              "\n",
              "    [theme=dark] .colab-df-convert:hover {\n",
              "      background-color: #434B5C;\n",
              "      box-shadow: 0px 1px 3px 1px rgba(0, 0, 0, 0.15);\n",
              "      filter: drop-shadow(0px 1px 2px rgba(0, 0, 0, 0.3));\n",
              "      fill: #FFFFFF;\n",
              "    }\n",
              "  </style>\n",
              "\n",
              "      <script>\n",
              "        const buttonEl =\n",
              "          document.querySelector('#df-04d19c90-41c5-4e6a-9789-e1392fbcc9e3 button.colab-df-convert');\n",
              "        buttonEl.style.display =\n",
              "          google.colab.kernel.accessAllowed ? 'block' : 'none';\n",
              "\n",
              "        async function convertToInteractive(key) {\n",
              "          const element = document.querySelector('#df-04d19c90-41c5-4e6a-9789-e1392fbcc9e3');\n",
              "          const dataTable =\n",
              "            await google.colab.kernel.invokeFunction('convertToInteractive',\n",
              "                                                     [key], {});\n",
              "          if (!dataTable) return;\n",
              "\n",
              "          const docLinkHtml = 'Like what you see? Visit the ' +\n",
              "            '<a target=\"_blank\" href=https://colab.research.google.com/notebooks/data_table.ipynb>data table notebook</a>'\n",
              "            + ' to learn more about interactive tables.';\n",
              "          element.innerHTML = '';\n",
              "          dataTable['output_type'] = 'display_data';\n",
              "          await google.colab.output.renderOutput(dataTable, element);\n",
              "          const docLink = document.createElement('div');\n",
              "          docLink.innerHTML = docLinkHtml;\n",
              "          element.appendChild(docLink);\n",
              "        }\n",
              "      </script>\n",
              "    </div>\n",
              "  </div>\n",
              "  "
            ]
          },
          "metadata": {},
          "execution_count": 3
        }
      ]
    },
    {
      "cell_type": "code",
      "source": [
        "# import matplotlib.pyplot as plt\n",
        "\n",
        "# labels = df1['teaching_method'].unique()\n",
        "# # sizes = [15, 30, 45, 10]\n",
        "# sizes = df1['teaching_method'].value_counts()\n",
        "# # colors = ['yellowgreen', 'gold', 'lightskyblue', 'lightcoral']\n",
        "# colors = ['purple', 'gold']\n",
        "# explode = (0, 0.1)\n",
        "# plt.title(\"파이 차트\")\n",
        "# plt.pie(sizes, explode=explode, labels=labels, colors=colors,\n",
        "#         autopct='%1.1f%%', shadow=True, startangle=90)\n",
        "# plt.axis('equal')\n",
        "# plt.show()"
      ],
      "metadata": {
        "colab": {
          "base_uri": "https://localhost:8080/",
          "height": 411
        },
        "id": "GWeUkWYNvAjZ",
        "outputId": "2153689b-19ff-473b-9d23-ba4113a81a88"
      },
      "execution_count": null,
      "outputs": [
        {
          "output_type": "stream",
          "name": "stderr",
          "text": [
            "/usr/local/lib/python3.9/dist-packages/IPython/core/pylabtools.py:128: UserWarning: Glyph 54028 (\\N{HANGUL SYLLABLE PA}) missing from current font.\n",
            "  fig.canvas.print_figure(bytes_io, **kw)\n",
            "/usr/local/lib/python3.9/dist-packages/IPython/core/pylabtools.py:128: UserWarning: Glyph 51060 (\\N{HANGUL SYLLABLE I}) missing from current font.\n",
            "  fig.canvas.print_figure(bytes_io, **kw)\n",
            "/usr/local/lib/python3.9/dist-packages/IPython/core/pylabtools.py:128: UserWarning: Glyph 52264 (\\N{HANGUL SYLLABLE CA}) missing from current font.\n",
            "  fig.canvas.print_figure(bytes_io, **kw)\n",
            "/usr/local/lib/python3.9/dist-packages/IPython/core/pylabtools.py:128: UserWarning: Glyph 53944 (\\N{HANGUL SYLLABLE TEU}) missing from current font.\n",
            "  fig.canvas.print_figure(bytes_io, **kw)\n"
          ]
        },
        {
          "output_type": "display_data",
          "data": {
            "text/plain": [
              "<Figure size 432x288 with 1 Axes>"
            ],
            "image/png": "[encoded data removed]"
          },
          "metadata": {}
        }
      ]
    },
    {
      "cell_type": "code",
      "source": [
        "df1['teaching_method'].value_counts()"
      ],
      "metadata": {
        "colab": {
          "base_uri": "https://localhost:8080/"
        },
        "id": "dT2SaKkRMo-j",
        "outputId": "1f7ddf6c-7edc-4698-ed66-fac60224483b"
      },
      "execution_count": null,
      "outputs": [
        {
          "output_type": "execute_result",
          "data": {
            "text/plain": [
              "Standard        1373\n",
              "Experimental     760\n",
              "Name: teaching_method, dtype: int64"
            ]
          },
          "metadata": {},
          "execution_count": 6
        }
      ]
    },
    {
      "cell_type": "code",
      "source": [
        "df['gender'].value_counts()"
      ],
      "metadata": {
        "colab": {
          "base_uri": "https://localhost:8080/"
        },
        "id": "1NYuMcBvUn-0",
        "outputId": "cc396ea0-e95c-4482-c62b-16194ef92c00"
      },
      "execution_count": null,
      "outputs": [
        {
          "output_type": "execute_result",
          "data": {
            "text/plain": [
              "Male      1077\n",
              "Female    1056\n",
              "Name: gender, dtype: int64"
            ]
          },
          "metadata": {},
          "execution_count": 7
        }
      ]
    },
    {
      "cell_type": "code",
      "source": [
        "sns.barplot(data=df1, x='gender', y='posttest')"
      ],
      "metadata": {
        "colab": {
          "base_uri": "https://localhost:8080/",
          "height": 297
        },
        "id": "IpIm9a_hUv-N",
        "outputId": "89283a6d-4039-4541-f64b-ef50bb45d5fc"
      },
      "execution_count": null,
      "outputs": [
        {
          "output_type": "execute_result",
          "data": {
            "text/plain": [
              "<Axes: xlabel='gender', ylabel='posttest'>"
            ]
          },
          "metadata": {},
          "execution_count": 8
        },
        {
          "output_type": "display_data",
          "data": {
            "text/plain": [
              "<Figure size 432x288 with 1 Axes>"
            ],
            "image/png": "[encoded data removed]"
          },
          "metadata": {
            "needs_background": "light"
          }
        }
      ]
    },
    {
      "cell_type": "markdown",
      "source": [
        "## 원-핫 인코딩"
      ],
      "metadata": {
        "id": "0y3LIwRle5HA"
      }
    },
    {
      "cell_type": "code",
      "source": [
        "X = df1.iloc[:, :-1].values\n",
        "y = df1.iloc[:, -1].values\n",
        "X"
      ],
      "metadata": {
        "colab": {
          "base_uri": "https://localhost:8080/"
        },
        "id": "Oa-yEraZbtot",
        "outputId": "248c154b-eb0f-4559-f20c-d9c6a16ef975"
      },
      "execution_count": null,
      "outputs": [
        {
          "output_type": "execute_result",
          "data": {
            "text/plain": [
              "array([['Urban', 'Non-public', 'Standard', ..., 'Female',\n",
              "        'Does not qualify', 62.0],\n",
              "       ['Urban', 'Non-public', 'Standard', ..., 'Female',\n",
              "        'Does not qualify', 66.0],\n",
              "       ['Urban', 'Non-public', 'Standard', ..., 'Male',\n",
              "        'Does not qualify', 64.0],\n",
              "       ...,\n",
              "       ['Urban', 'Public', 'Standard', ..., 'Female',\n",
              "        'Qualifies for reduced/free lunch', 45.0],\n",
              "       ['Urban', 'Public', 'Standard', ..., 'Male',\n",
              "        'Qualifies for reduced/free lunch', 46.0],\n",
              "       ['Urban', 'Public', 'Standard', ..., 'Male',\n",
              "        'Qualifies for reduced/free lunch', 41.0]], dtype=object)"
            ]
          },
          "metadata": {},
          "execution_count": 9
        }
      ]
    },
    {
      "cell_type": "code",
      "source": [
        "from sklearn.compose import ColumnTransformer\n",
        "from sklearn.preprocessing import OneHotEncoder\n",
        "ct = ColumnTransformer(transformers=[('encoder', OneHotEncoder(drop='first'), [0, 1, 2, 4, 5])], remainder='passthrough')\n",
        "ct\n",
        "X = ct.fit_transform(X)\n",
        "X"
      ],
      "metadata": {
        "colab": {
          "base_uri": "https://localhost:8080/"
        },
        "id": "EpRXBi4Jb4ov",
        "outputId": "e004d8b7-8cf9-4a6b-ad81-fec751f326ee"
      },
      "execution_count": null,
      "outputs": [
        {
          "output_type": "execute_result",
          "data": {
            "text/plain": [
              "array([[0.0, 1.0, 0.0, ..., 0.0, 20.0, 62.0],\n",
              "       [0.0, 1.0, 0.0, ..., 0.0, 20.0, 66.0],\n",
              "       [0.0, 1.0, 0.0, ..., 0.0, 20.0, 64.0],\n",
              "       ...,\n",
              "       [0.0, 1.0, 1.0, ..., 1.0, 30.0, 45.0],\n",
              "       [0.0, 1.0, 1.0, ..., 1.0, 30.0, 46.0],\n",
              "       [0.0, 1.0, 1.0, ..., 1.0, 30.0, 41.0]], dtype=object)"
            ]
          },
          "metadata": {},
          "execution_count": 10
        }
      ]
    },
    {
      "cell_type": "markdown",
      "source": [
        "## 데이터 세트 분리"
      ],
      "metadata": {
        "id": "gIj1hSite-g-"
      }
    },
    {
      "cell_type": "code",
      "source": [
        "from sklearn.model_selection import train_test_split\n",
        "X_train, X_test, y_train, y_test = train_test_split(X, y, test_size=0.2, random_state=20)"
      ],
      "metadata": {
        "id": "lhle_DvCeRWm"
      },
      "execution_count": null,
      "outputs": []
    },
    {
      "cell_type": "code",
      "source": [
        "X, len(X)\n"
      ],
      "metadata": {
        "colab": {
          "base_uri": "https://localhost:8080/"
        },
        "id": "vDGlPcAYhOay",
        "outputId": "a66a15d7-06ac-4b6b-fec8-77ee1e09d560"
      },
      "execution_count": null,
      "outputs": [
        {
          "output_type": "execute_result",
          "data": {
            "text/plain": [
              "(array([[0.0, 1.0, 0.0, ..., 0.0, 20.0, 62.0],\n",
              "        [0.0, 1.0, 0.0, ..., 0.0, 20.0, 66.0],\n",
              "        [0.0, 1.0, 0.0, ..., 0.0, 20.0, 64.0],\n",
              "        ...,\n",
              "        [0.0, 1.0, 1.0, ..., 1.0, 30.0, 45.0],\n",
              "        [0.0, 1.0, 1.0, ..., 1.0, 30.0, 46.0],\n",
              "        [0.0, 1.0, 1.0, ..., 1.0, 30.0, 41.0]], dtype=object), 2133)"
            ]
          },
          "metadata": {},
          "execution_count": 12
        }
      ]
    },
    {
      "cell_type": "code",
      "source": [
        "X_train, len(X_train) # 훈련 세트 X, 개수"
      ],
      "metadata": {
        "id": "EnbQVxVchUVX",
        "colab": {
          "base_uri": "https://localhost:8080/"
        },
        "outputId": "547fb330-1f00-4021-cf09-7ac456a28bde"
      },
      "execution_count": null,
      "outputs": [
        {
          "output_type": "execute_result",
          "data": {
            "text/plain": [
              "(array([[1.0, 0.0, 0.0, ..., 1.0, 19.0, 65.0],\n",
              "        [1.0, 0.0, 1.0, ..., 1.0, 21.0, 62.0],\n",
              "        [0.0, 1.0, 1.0, ..., 1.0, 30.0, 34.0],\n",
              "        ...,\n",
              "        [0.0, 0.0, 1.0, ..., 0.0, 22.0, 43.0],\n",
              "        [1.0, 0.0, 1.0, ..., 0.0, 21.0, 54.0],\n",
              "        [0.0, 1.0, 1.0, ..., 0.0, 27.0, 52.0]], dtype=object), 1706)"
            ]
          },
          "metadata": {},
          "execution_count": 13
        }
      ]
    },
    {
      "cell_type": "code",
      "source": [
        "X_test, len(X_test) # 테스트 세트 X, 개수"
      ],
      "metadata": {
        "id": "zc_B8D0MhZK6",
        "colab": {
          "base_uri": "https://localhost:8080/"
        },
        "outputId": "e1c331fb-2150-4ac9-e622-9f8dd84484e2"
      },
      "execution_count": null,
      "outputs": [
        {
          "output_type": "execute_result",
          "data": {
            "text/plain": [
              "(array([[0.0, 0.0, 1.0, ..., 1.0, 23.0, 36.0],\n",
              "        [0.0, 0.0, 0.0, ..., 1.0, 20.0, 55.0],\n",
              "        [0.0, 1.0, 1.0, ..., 1.0, 31.0, 48.0],\n",
              "        ...,\n",
              "        [1.0, 0.0, 1.0, ..., 0.0, 23.0, 75.0],\n",
              "        [1.0, 0.0, 1.0, ..., 0.0, 20.0, 48.0],\n",
              "        [1.0, 0.0, 1.0, ..., 0.0, 21.0, 84.0]], dtype=object), 427)"
            ]
          },
          "metadata": {},
          "execution_count": 14
        }
      ]
    },
    {
      "cell_type": "code",
      "source": [
        "y, len(y) # 전체 데이터 y"
      ],
      "metadata": {
        "id": "COix86aNhga0",
        "colab": {
          "base_uri": "https://localhost:8080/"
        },
        "outputId": "d7d11bca-94bf-43b2-fa35-4b2025495cee"
      },
      "execution_count": null,
      "outputs": [
        {
          "output_type": "execute_result",
          "data": {
            "text/plain": [
              "(array([72., 79., 76., ..., 51., 53., 48.]), 2133)"
            ]
          },
          "metadata": {},
          "execution_count": 15
        }
      ]
    },
    {
      "cell_type": "code",
      "source": [
        "y_train, len(y_train) # 훈련 세트 y"
      ],
      "metadata": {
        "id": "MWIYtob9hhwj",
        "colab": {
          "base_uri": "https://localhost:8080/"
        },
        "outputId": "fb115668-553c-4d2d-b53a-8015eec72535"
      },
      "execution_count": null,
      "outputs": [
        {
          "output_type": "execute_result",
          "data": {
            "text/plain": [
              "(array([74., 72., 46., ..., 58., 68., 62.]), 1706)"
            ]
          },
          "metadata": {},
          "execution_count": 16
        }
      ]
    },
    {
      "cell_type": "code",
      "source": [
        "y_test, len(y_test) # 테스트 세트 y"
      ],
      "metadata": {
        "id": "ahUNdkFohkMf",
        "colab": {
          "base_uri": "https://localhost:8080/"
        },
        "outputId": "5a789f92-ce74-410a-dccb-e38ebe496d7a"
      },
      "execution_count": null,
      "outputs": [
        {
          "output_type": "execute_result",
          "data": {
            "text/plain": [
              "(array([ 40.,  75.,  58.,  67.,  79.,  68.,  51.,  65.,  40.,  78.,  98.,\n",
              "         83.,  63.,  50.,  87.,  53.,  57.,  59.,  66.,  45.,  78.,  55.,\n",
              "         63.,  68.,  81.,  47.,  72.,  37.,  55.,  76.,  77.,  53.,  70.,\n",
              "         83.,  58.,  69.,  59.,  52.,  72.,  62.,  79.,  40.,  63.,  66.,\n",
              "         40.,  72.,  75.,  72.,  77.,  88.,  80.,  48.,  70.,  72.,  49.,\n",
              "         56.,  54.,  74.,  69.,  77.,  40.,  70.,  72.,  59.,  93.,  76.,\n",
              "         72.,  68.,  71.,  95.,  71.,  77.,  57.,  41.,  61.,  57.,  64.,\n",
              "         58.,  66.,  92.,  59.,  56.,  82.,  55.,  51.,  86.,  62.,  82.,\n",
              "         83.,  56.,  80.,  70.,  75.,  73.,  80.,  63.,  61.,  62.,  48.,\n",
              "         56.,  47.,  82.,  69.,  88.,  88.,  46.,  82.,  70.,  87.,  68.,\n",
              "         69.,  74.,  54.,  54.,  57.,  42.,  68.,  49.,  45.,  97.,  81.,\n",
              "         79.,  56.,  49.,  52.,  78.,  47.,  64.,  86.,  65.,  73.,  76.,\n",
              "         48.,  84.,  78.,  68.,  51.,  75.,  71.,  58.,  95.,  75.,  85.,\n",
              "         46.,  67.,  56.,  53.,  59.,  74.,  63.,  53.,  48.,  69.,  43.,\n",
              "         51.,  51.,  58.,  85.,  68.,  82.,  62.,  68.,  86.,  78.,  59.,\n",
              "         64.,  56.,  88.,  89.,  61.,  71.,  73.,  53.,  55.,  69.,  55.,\n",
              "         60.,  93.,  42.,  67.,  55.,  70.,  74.,  93.,  74.,  91.,  73.,\n",
              "         54.,  67.,  78.,  83.,  53.,  46.,  46.,  49.,  48.,  46.,  69.,\n",
              "         72.,  84.,  89.,  76.,  77.,  73.,  56.,  75.,  59.,  71.,  70.,\n",
              "         79.,  84.,  73.,  68.,  56.,  74.,  83.,  62.,  49.,  68.,  70.,\n",
              "         80.,  49.,  45.,  61.,  66.,  46.,  53.,  73.,  44.,  71.,  79.,\n",
              "         74.,  61.,  85.,  70.,  53.,  63.,  62.,  54.,  79.,  70.,  67.,\n",
              "         94.,  59.,  92.,  50.,  77.,  87.,  48.,  57.,  73.,  56.,  77.,\n",
              "         43.,  96.,  43.,  79.,  37.,  64.,  54.,  51.,  73.,  85., 100.,\n",
              "         67.,  77.,  58.,  85.,  48.,  55.,  77.,  70.,  63.,  51.,  56.,\n",
              "         80.,  82.,  48.,  39.,  61.,  61.,  50.,  53.,  54.,  74.,  68.,\n",
              "         58.,  86.,  77.,  67.,  49.,  84.,  94.,  43.,  43.,  39.,  65.,\n",
              "         49.,  57.,  74.,  77.,  45.,  90.,  72.,  38.,  47.,  75.,  64.,\n",
              "         74.,  58.,  71.,  79.,  59.,  53.,  55.,  95.,  72.,  89.,  57.,\n",
              "         60.,  81.,  50.,  68.,  63.,  66.,  48.,  50.,  61.,  67.,  61.,\n",
              "         47.,  52.,  68.,  65.,  85.,  48.,  66.,  79.,  71.,  66.,  74.,\n",
              "         95.,  80.,  56.,  59.,  74.,  96.,  57.,  48.,  52.,  56.,  58.,\n",
              "         57.,  43.,  88.,  71.,  62.,  78.,  62.,  59.,  75.,  74.,  52.,\n",
              "         78.,  95.,  67.,  59.,  76.,  41.,  72.,  62.,  71.,  78.,  77.,\n",
              "         65.,  64.,  77.,  77.,  43.,  59.,  68.,  68.,  73.,  54.,  88.,\n",
              "         55.,  45.,  48.,  65.,  57.,  91.,  51.,  85.,  45.,  76.,  87.,\n",
              "         49.,  68.,  84.,  66.,  46.,  76.,  59.,  60.,  38.,  53.,  60.,\n",
              "         54.,  49.,  68.,  84.,  89.,  90.,  70.,  70.,  49.,  55.,  46.,\n",
              "         57.,  46.,  65., 100.,  42.,  52.,  94.,  62.,  95.]), 427)"
            ]
          },
          "metadata": {},
          "execution_count": 17
        }
      ]
    },
    {
      "cell_type": "markdown",
      "source": [
        "## 학습(다중 선형 회귀)"
      ],
      "metadata": {
        "id": "j0fmbsovfAu2"
      }
    },
    {
      "cell_type": "code",
      "source": [
        "from sklearn.linear_model import LinearRegression\n",
        "reg = LinearRegression()\n",
        "reg.fit(X_train, y_train) # 훈련 세트로 학습"
      ],
      "metadata": {
        "id": "uqlXSz9heV8f",
        "colab": {
          "base_uri": "https://localhost:8080/",
          "height": 75
        },
        "outputId": "02303e59-1558-4bf4-b4a9-547215f1b12f"
      },
      "execution_count": null,
      "outputs": [
        {
          "output_type": "execute_result",
          "data": {
            "text/plain": [
              "LinearRegression()"
            ],
            "text/html": [
              "<style>#sk-container-id-1 {color: black;background-color: white;}#sk-container-id-1 pre{padding: 0;}#sk-container-id-1 div.sk-toggleable {background-color: white;}#sk-container-id-1 label.sk-toggleable__label {cursor: pointer;display: block;width: 100%;margin-bottom: 0;padding: 0.3em;box-sizing: border-box;text-align: center;}#sk-container-id-1 label.sk-toggleable__label-arrow:before {content: \"▸\";float: left;margin-right: 0.25em;color: #696969;}#sk-container-id-1 label.sk-toggleable__label-arrow:hover:before {color: black;}#sk-container-id-1 div.sk-estimator:hover label.sk-toggleable__label-arrow:before {color: black;}#sk-container-id-1 div.sk-toggleable__content {max-height: 0;max-width: 0;overflow: hidden;text-align: left;background-color: #f0f8ff;}#sk-container-id-1 div.sk-toggleable__content pre {margin: 0.2em;color: black;border-radius: 0.25em;background-color: #f0f8ff;}#sk-container-id-1 input.sk-toggleable__control:checked~div.sk-toggleable__content {max-height: 200px;max-width: 100%;overflow: auto;}#sk-container-id-1 input.sk-toggleable__control:checked~label.sk-toggleable__label-arrow:before {content: \"▾\";}#sk-container-id-1 div.sk-estimator input.sk-toggleable__control:checked~label.sk-toggleable__label {background-color: #d4ebff;}#sk-container-id-1 div.sk-label input.sk-toggleable__control:checked~label.sk-toggleable__label {background-color: #d4ebff;}#sk-container-id-1 input.sk-hidden--visually {border: 0;clip: rect(1px 1px 1px 1px);clip: rect(1px, 1px, 1px, 1px);height: 1px;margin: -1px;overflow: hidden;padding: 0;position: absolute;width: 1px;}#sk-container-id-1 div.sk-estimator {font-family: monospace;background-color: #f0f8ff;border: 1px dotted black;border-radius: 0.25em;box-sizing: border-box;margin-bottom: 0.5em;}#sk-container-id-1 div.sk-estimator:hover {background-color: #d4ebff;}#sk-container-id-1 div.sk-parallel-item::after {content: \"\";width: 100%;border-bottom: 1px solid gray;flex-grow: 1;}#sk-container-id-1 div.sk-label:hover label.sk-toggleable__label {background-color: #d4ebff;}#sk-container-id-1 div.sk-serial::before {content: \"\";position: absolute;border-left: 1px solid gray;box-sizing: border-box;top: 0;bottom: 0;left: 50%;z-index: 0;}#sk-container-id-1 div.sk-serial {display: flex;flex-direction: column;align-items: center;background-color: white;padding-right: 0.2em;padding-left: 0.2em;position: relative;}#sk-container-id-1 div.sk-item {position: relative;z-index: 1;}#sk-container-id-1 div.sk-parallel {display: flex;align-items: stretch;justify-content: center;background-color: white;position: relative;}#sk-container-id-1 div.sk-item::before, #sk-container-id-1 div.sk-parallel-item::before {content: \"\";position: absolute;border-left: 1px solid gray;box-sizing: border-box;top: 0;bottom: 0;left: 50%;z-index: -1;}#sk-container-id-1 div.sk-parallel-item {display: flex;flex-direction: column;z-index: 1;position: relative;background-color: white;}#sk-container-id-1 div.sk-parallel-item:first-child::after {align-self: flex-end;width: 50%;}#sk-container-id-1 div.sk-parallel-item:last-child::after {align-self: flex-start;width: 50%;}#sk-container-id-1 div.sk-parallel-item:only-child::after {width: 0;}#sk-container-id-1 div.sk-dashed-wrapped {border: 1px dashed gray;margin: 0 0.4em 0.5em 0.4em;box-sizing: border-box;padding-bottom: 0.4em;background-color: white;}#sk-container-id-1 div.sk-label label {font-family: monospace;font-weight: bold;display: inline-block;line-height: 1.2em;}#sk-container-id-1 div.sk-label-container {text-align: center;}#sk-container-id-1 div.sk-container {/* jupyter's `normalize.less` sets `[hidden] { display: none; }` but bootstrap.min.css set `[hidden] { display: none !important; }` so we also need the `!important` here to be able to override the default hidden behavior on the sphinx rendered scikit-learn.org. See: https://github.com/scikit-learn/scikit-learn/issues/21755 */display: inline-block !important;position: relative;}#sk-container-id-1 div.sk-text-repr-fallback {display: none;}</style><div id=\"sk-container-id-1\" class=\"sk-top-container\"><div class=\"sk-text-repr-fallback\"><pre>LinearRegression()</pre><b>In a Jupyter environment, please rerun this cell to show the HTML representation or trust the notebook. <br />On GitHub, the HTML representation is unable to render, please try loading this page with nbviewer.org.</b></div><div class=\"sk-container\" hidden><div class=\"sk-item\"><div class=\"sk-estimator sk-toggleable\"><input class=\"sk-toggleable__control sk-hidden--visually\" id=\"sk-estimator-id-1\" type=\"checkbox\" checked><label for=\"sk-estimator-id-1\" class=\"sk-toggleable__label sk-toggleable__label-arrow\">LinearRegression</label><div class=\"sk-toggleable__content\"><pre>LinearRegression()</pre></div></div></div></div></div>"
            ]
          },
          "metadata": {},
          "execution_count": 18
        }
      ]
    },
    {
      "cell_type": "markdown",
      "source": [
        "## 예측 값과 실제 값 비교 (테스트 세트)"
      ],
      "metadata": {
        "id": "X9d-aMKGfFR3"
      }
    },
    {
      "cell_type": "code",
      "source": [
        "y_pred = reg.predict(X_test)\n",
        "y_pred"
      ],
      "metadata": {
        "id": "w71wpSoReZKH",
        "colab": {
          "base_uri": "https://localhost:8080/"
        },
        "outputId": "cc545bba-d551-4805-b043-7ff71091f0af"
      },
      "execution_count": null,
      "outputs": [
        {
          "output_type": "execute_result",
          "data": {
            "text/plain": [
              "array([ 46.82156289,  70.31681414,  57.111252  ,  65.62540444,\n",
              "        80.48269422,  73.45998778,  48.69794372,  67.83409351,\n",
              "        40.67024084,  77.0100692 , 102.55366374,  82.43636217,\n",
              "        63.10044181,  51.79004458,  83.87454599,  53.59880891,\n",
              "        53.50585641,  60.30943787,  68.34379178,  43.3767363 ,\n",
              "        79.63707382,  52.26884366,  64.90561621,  68.77235481,\n",
              "        78.89310105,  39.60749339,  70.14731525,  42.40473763,\n",
              "        60.59903621,  78.32134947,  77.70428025,  42.24637235,\n",
              "        68.06992295,  85.87025327,  56.66250137,  71.37884596,\n",
              "        61.11014465,  51.3644615 ,  78.49488171,  59.75013096,\n",
              "        83.13057322,  39.58650559,  60.79863751,  64.41616616,\n",
              "        43.38338733,  72.0303471 ,  75.90232655,  72.21053037,\n",
              "        78.46069767,  83.25303269,  77.65654627,  45.18550062,\n",
              "        72.0303471 ,  74.42095196,  50.50670804,  55.18495745,\n",
              "        57.98940551,  71.87345572,  69.0798014 ,  79.73002631,\n",
              "        44.20685093,  74.38550305,  75.90232655,  58.79027189,\n",
              "        92.28629103,  70.77478503,  71.22900639,  63.34300073,\n",
              "        73.86007526,  90.7769727 ,  70.82110882,  77.84699446,\n",
              "        54.55122994,  41.07336221,  58.68518633,  58.84574879,\n",
              "        65.73573085,  57.25537639,  67.50843629,  91.37666802,\n",
              "        59.26609102,  50.52408195,  87.84921103,  48.65131501,\n",
              "        51.61069149,  82.34865053,  63.82188096,  79.03972752,\n",
              "        82.27595277,  56.69262485,  77.73081381,  66.29919801,\n",
              "        80.44396029,  70.84224193,  77.10615471,  60.90913319,\n",
              "        62.99176633,  66.99440851,  50.02931913,  57.35365131,\n",
              "        47.26813377,  80.269462  ,  68.66420815,  87.88159884,\n",
              "        83.23722855,  43.27830177,  83.32730022,  70.14731525,\n",
              "        81.37157061,  70.00114675,  69.60246944,  67.76131731,\n",
              "        50.38581181,  51.44190823,  54.33597104,  45.03378636,\n",
              "        69.1039684 ,  54.98199015,  42.47235414,  92.87541652,\n",
              "        73.82884651,  79.77821825,  60.20576249,  49.56709718,\n",
              "        53.59880891,  79.77821825,  45.93816853,  61.5290767 ,\n",
              "        90.69983088,  64.41616616,  73.3977814 ,  70.00114675,\n",
              "        48.57704748,  80.40842669,  81.66125011,  73.66640937,\n",
              "        54.50319107,  73.29426562,  76.11249766,  57.2110967 ,\n",
              "        90.50834473,  74.84316902,  85.27055795,  51.4110902 ,\n",
              "        66.85693515,  53.23722844,  57.26437643,  60.3837054 ,\n",
              "        71.05834844,  64.90561621,  52.74246562,  45.9105297 ,\n",
              "        74.19864778,  47.13322964,  50.6117936 ,  52.0821337 ,\n",
              "        57.03698447,  82.55741147,  68.95921007,  84.18980266,\n",
              "        65.53378054,  69.06429563,  83.46179363,  72.82964371,\n",
              "        55.2403532 ,  63.23791517,  60.54724781,  89.04247591,\n",
              "        86.78573053,  62.64362998,  72.89364632,  71.43136742,\n",
              "        50.38581181,  54.72101266,  65.70491282,  60.84151668,\n",
              "        60.01140205,  88.64185661,  42.47900516,  68.33855092,\n",
              "        58.02776722,  71.81813188,  75.21718746,  91.97103436,\n",
              "        69.00553387,  91.41272689,  76.43690744,  58.08549102,\n",
              "        70.21617266,  74.84316902,  79.49653935,  53.09895829,\n",
              "        47.79356155,  52.72524477,  48.17251593,  49.52805835,\n",
              "        44.95951883,  66.99440851,  71.084882  ,  81.55616455,\n",
              "        88.81679902,  75.84778195,  76.76008001,  71.77744212,\n",
              "        55.40233238,  77.10546016,  52.68918589,  70.18049984,\n",
              "        71.74662409,  78.63519597,  79.74740023,  66.23393052,\n",
              "        66.14254781,  58.93214938,  76.12156962,  86.87056134,\n",
              "        65.4916806 ,  46.84255069,  68.97430512,  63.41726826,\n",
              "        78.03550065,  50.81139489,  43.17321621,  58.93214938,\n",
              "        63.67767542,  44.18268393,  54.55122994,  71.22119631,\n",
              "        40.66358981,  75.71673316,  84.15898463,  69.93785977,\n",
              "        56.62721206,  80.01837721,  72.61218763,  46.88917939,\n",
              "        63.58605152,  64.53331286,  57.98940551,  81.27407492,\n",
              "        69.04857265,  76.22971628,  88.77384794,  57.45732669,\n",
              "        86.32932942,  46.81491186,  78.8347161 ,  90.40325918,\n",
              "        54.60827663,  56.76617675,  73.06858874,  55.06608791,\n",
              "        73.55538841,  46.49965519,  98.03175293,  41.14762975,\n",
              "        75.96978345,  39.76585868,  58.33089083,  55.05943688,\n",
              "        48.62367618,  73.03777071,  87.98668439,  97.12737077,\n",
              "        62.08738417,  77.73081381,  57.50842668,  83.46477358,\n",
              "        50.81139489,  55.69966235,  77.84699446,  67.43416876,\n",
              "        63.65350842,  55.17274324,  57.95349969,  80.74864714,\n",
              "        78.21485374,  48.0982484 ,  40.67024084,  64.41616616,\n",
              "        59.40505571,  50.81139489,  51.29019397,  52.7995123 ,\n",
              "        76.11092789,  66.33542616,  58.82258124,  84.18980266,\n",
              "        74.39231368,  69.67367586,  56.66101004,  82.14004919,\n",
              "        89.18362034,  44.7651584 ,  44.00333084,  41.07336221,\n",
              "        69.24293309,  52.33284628,  58.4712657 ,  70.81429819,\n",
              "        78.81883352,  44.98198054,  95.29888351,  75.10302995,\n",
              "        41.97774438,  50.08636581,  77.77854778,  68.41805931,\n",
              "        75.53393545,  60.20435231,  72.96350318,  74.29692271,\n",
              "        61.60693416,  52.7995123 ,  57.04911753,  91.30240048,\n",
              "        68.50804982,  84.44629756,  52.35294142,  57.98940551,\n",
              "        75.13384797,  50.53752607,  69.14449856,  62.9174988 ,\n",
              "        70.00114675,  51.89513014,  50.38581181,  60.90913319,\n",
              "        67.20358017,  62.9578872 ,  50.01209828,  51.61069149,\n",
              "        62.9174988 ,  65.84379635,  86.07283451,  49.84637612,\n",
              "        64.4523943 ,  80.44396029,  72.69733005,  66.96052938,\n",
              "        73.6186754 ,  93.77979869,  81.62806552,  63.02329999,\n",
              "        62.08738417,  68.66726925,  97.2016383 ,  55.97203985,\n",
              "        46.84255069,  49.48142965,  53.54176223,  62.19246973,\n",
              "        53.49372335,  43.38338733,  86.7003679 ,  71.67235656,\n",
              "        69.24817394,  79.1514641 ,  57.91819908,  62.5077264 ,\n",
              "        76.31209896,  74.31804615,  48.69794372,  80.92800023,\n",
              "        88.56758908,  70.21131786,  55.27625902,  73.60795251,\n",
              "        40.58932228,  69.00553387,  61.18300201,  72.5379201 ,\n",
              "        76.33182189,  73.99754862,  58.98987318,  65.15176505,\n",
              "        75.94527764,  76.18519542,  41.574623  ,  57.78080417,\n",
              "        65.27932974,  61.04403732,  67.5772937 ,  57.08143342,\n",
              "        84.03652516,  56.20686984,  46.81491186,  52.24120483,\n",
              "        69.24817394,  62.40780054,  86.10365254,  50.53752607,\n",
              "        82.631679  ,  39.26459789,  74.37643109,  80.82291467,\n",
              "        51.44190823,  74.62955329,  80.05584627,  65.32054832,\n",
              "        48.17251593,  78.18166915,  58.04427244,  59.93048349,\n",
              "        43.20403424,  49.90701273,  56.23244701,  55.19840157,\n",
              "        47.74693285,  69.98142382,  77.76204256,  87.69011269,\n",
              "        90.47228585,  70.88580598,  63.57924089,  46.79074486,\n",
              "        57.492616  ,  50.38581181,  63.41210856,  45.99144826,\n",
              "        63.23791517, 101.64928158,  41.97774438,  51.33682267,\n",
              "        89.87259054,  65.76952882,  92.39137659])"
            ]
          },
          "metadata": {},
          "execution_count": 19
        }
      ]
    },
    {
      "cell_type": "code",
      "source": [
        "y_test"
      ],
      "metadata": {
        "id": "axWVh-vkecah",
        "colab": {
          "base_uri": "https://localhost:8080/"
        },
        "outputId": "82d7809e-ffb5-40d9-fdc3-cd0be0988ea3"
      },
      "execution_count": null,
      "outputs": [
        {
          "output_type": "execute_result",
          "data": {
            "text/plain": [
              "array([ 40.,  75.,  58.,  67.,  79.,  68.,  51.,  65.,  40.,  78.,  98.,\n",
              "        83.,  63.,  50.,  87.,  53.,  57.,  59.,  66.,  45.,  78.,  55.,\n",
              "        63.,  68.,  81.,  47.,  72.,  37.,  55.,  76.,  77.,  53.,  70.,\n",
              "        83.,  58.,  69.,  59.,  52.,  72.,  62.,  79.,  40.,  63.,  66.,\n",
              "        40.,  72.,  75.,  72.,  77.,  88.,  80.,  48.,  70.,  72.,  49.,\n",
              "        56.,  54.,  74.,  69.,  77.,  40.,  70.,  72.,  59.,  93.,  76.,\n",
              "        72.,  68.,  71.,  95.,  71.,  77.,  57.,  41.,  61.,  57.,  64.,\n",
              "        58.,  66.,  92.,  59.,  56.,  82.,  55.,  51.,  86.,  62.,  82.,\n",
              "        83.,  56.,  80.,  70.,  75.,  73.,  80.,  63.,  61.,  62.,  48.,\n",
              "        56.,  47.,  82.,  69.,  88.,  88.,  46.,  82.,  70.,  87.,  68.,\n",
              "        69.,  74.,  54.,  54.,  57.,  42.,  68.,  49.,  45.,  97.,  81.,\n",
              "        79.,  56.,  49.,  52.,  78.,  47.,  64.,  86.,  65.,  73.,  76.,\n",
              "        48.,  84.,  78.,  68.,  51.,  75.,  71.,  58.,  95.,  75.,  85.,\n",
              "        46.,  67.,  56.,  53.,  59.,  74.,  63.,  53.,  48.,  69.,  43.,\n",
              "        51.,  51.,  58.,  85.,  68.,  82.,  62.,  68.,  86.,  78.,  59.,\n",
              "        64.,  56.,  88.,  89.,  61.,  71.,  73.,  53.,  55.,  69.,  55.,\n",
              "        60.,  93.,  42.,  67.,  55.,  70.,  74.,  93.,  74.,  91.,  73.,\n",
              "        54.,  67.,  78.,  83.,  53.,  46.,  46.,  49.,  48.,  46.,  69.,\n",
              "        72.,  84.,  89.,  76.,  77.,  73.,  56.,  75.,  59.,  71.,  70.,\n",
              "        79.,  84.,  73.,  68.,  56.,  74.,  83.,  62.,  49.,  68.,  70.,\n",
              "        80.,  49.,  45.,  61.,  66.,  46.,  53.,  73.,  44.,  71.,  79.,\n",
              "        74.,  61.,  85.,  70.,  53.,  63.,  62.,  54.,  79.,  70.,  67.,\n",
              "        94.,  59.,  92.,  50.,  77.,  87.,  48.,  57.,  73.,  56.,  77.,\n",
              "        43.,  96.,  43.,  79.,  37.,  64.,  54.,  51.,  73.,  85., 100.,\n",
              "        67.,  77.,  58.,  85.,  48.,  55.,  77.,  70.,  63.,  51.,  56.,\n",
              "        80.,  82.,  48.,  39.,  61.,  61.,  50.,  53.,  54.,  74.,  68.,\n",
              "        58.,  86.,  77.,  67.,  49.,  84.,  94.,  43.,  43.,  39.,  65.,\n",
              "        49.,  57.,  74.,  77.,  45.,  90.,  72.,  38.,  47.,  75.,  64.,\n",
              "        74.,  58.,  71.,  79.,  59.,  53.,  55.,  95.,  72.,  89.,  57.,\n",
              "        60.,  81.,  50.,  68.,  63.,  66.,  48.,  50.,  61.,  67.,  61.,\n",
              "        47.,  52.,  68.,  65.,  85.,  48.,  66.,  79.,  71.,  66.,  74.,\n",
              "        95.,  80.,  56.,  59.,  74.,  96.,  57.,  48.,  52.,  56.,  58.,\n",
              "        57.,  43.,  88.,  71.,  62.,  78.,  62.,  59.,  75.,  74.,  52.,\n",
              "        78.,  95.,  67.,  59.,  76.,  41.,  72.,  62.,  71.,  78.,  77.,\n",
              "        65.,  64.,  77.,  77.,  43.,  59.,  68.,  68.,  73.,  54.,  88.,\n",
              "        55.,  45.,  48.,  65.,  57.,  91.,  51.,  85.,  45.,  76.,  87.,\n",
              "        49.,  68.,  84.,  66.,  46.,  76.,  59.,  60.,  38.,  53.,  60.,\n",
              "        54.,  49.,  68.,  84.,  89.,  90.,  70.,  70.,  49.,  55.,  46.,\n",
              "        57.,  46.,  65., 100.,  42.,  52.,  94.,  62.,  95.])"
            ]
          },
          "metadata": {},
          "execution_count": 20
        }
      ]
    },
    {
      "cell_type": "code",
      "source": [
        "reg.coef_"
      ],
      "metadata": {
        "id": "2JvbsBayeee1",
        "colab": {
          "base_uri": "https://localhost:8080/"
        },
        "outputId": "e015e241-70ea-4de0-912f-5d9402c30906"
      },
      "execution_count": null,
      "outputs": [
        {
          "output_type": "execute_result",
          "data": {
            "text/plain": [
              "array([ 0.83168441,  0.20352009, -0.01737391, -5.90509206, -0.07426753,\n",
              "       -1.04334685, -0.10508556,  0.90438216])"
            ]
          },
          "metadata": {},
          "execution_count": 21
        }
      ]
    },
    {
      "cell_type": "code",
      "source": [
        "reg.intercept_"
      ],
      "metadata": {
        "id": "Jw4k_6K9eg9F",
        "colab": {
          "base_uri": "https://localhost:8080/"
        },
        "outputId": "9bbabb2f-414c-4c93-f242-8fb096b9670d"
      },
      "execution_count": null,
      "outputs": [
        {
          "output_type": "execute_result",
          "data": {
            "text/plain": [
              "23.72085319776125"
            ]
          },
          "metadata": {},
          "execution_count": 22
        }
      ]
    },
    {
      "cell_type": "markdown",
      "source": [
        "## 모델 평가"
      ],
      "metadata": {
        "id": "CUWJemm3fLV0"
      }
    },
    {
      "cell_type": "code",
      "source": [
        "reg.score(X_train, y_train) # 훈련 세트"
      ],
      "metadata": {
        "id": "RDjjBs7beikD",
        "colab": {
          "base_uri": "https://localhost:8080/"
        },
        "outputId": "988fd14a-beb0-4488-e995-78776f31e0e5"
      },
      "execution_count": null,
      "outputs": [
        {
          "output_type": "execute_result",
          "data": {
            "text/plain": [
              "0.9461257598618334"
            ]
          },
          "metadata": {},
          "execution_count": 23
        }
      ]
    },
    {
      "cell_type": "code",
      "source": [
        "reg.score(X_test, y_test) # 테스트 세트"
      ],
      "metadata": {
        "id": "11y8FANZekYv",
        "colab": {
          "base_uri": "https://localhost:8080/"
        },
        "outputId": "15b223bd-ec07-4fc4-de09-37c439275bc0"
      },
      "execution_count": null,
      "outputs": [
        {
          "output_type": "execute_result",
          "data": {
            "text/plain": [
              "0.9515806736585357"
            ]
          },
          "metadata": {},
          "execution_count": 24
        }
      ]
    },
    {
      "cell_type": "markdown",
      "source": [
        "다양한 평가 지표 (회귀 모델)"
      ],
      "metadata": {
        "id": "0i5PDG5NfP7P"
      }
    },
    {
      "cell_type": "code",
      "source": [
        "from sklearn.metrics import mean_absolute_error\n",
        "mean_absolute_error(y_test, y_pred) # 실제 값, 예측 값 # MAE"
      ],
      "metadata": {
        "id": "f5aMqMR-epd6",
        "colab": {
          "base_uri": "https://localhost:8080/"
        },
        "outputId": "b8162270-6225-4084-f624-1b7a28ec64c0"
      },
      "execution_count": null,
      "outputs": [
        {
          "output_type": "execute_result",
          "data": {
            "text/plain": [
              "2.5527201343107317"
            ]
          },
          "metadata": {},
          "execution_count": 25
        }
      ]
    },
    {
      "cell_type": "code",
      "source": [
        "from sklearn.metrics import mean_squared_error\n",
        "mean_squared_error(y_test, y_pred) # MSE"
      ],
      "metadata": {
        "id": "spLhZlU7esE1",
        "colab": {
          "base_uri": "https://localhost:8080/"
        },
        "outputId": "8e3cee70-be89-4477-c38d-42f13ea083f7"
      },
      "execution_count": null,
      "outputs": [
        {
          "output_type": "execute_result",
          "data": {
            "text/plain": [
              "10.020350228685528"
            ]
          },
          "metadata": {},
          "execution_count": 26
        }
      ]
    },
    {
      "cell_type": "code",
      "source": [
        "from sklearn.metrics import mean_squared_error\n",
        "mean_squared_error(y_test, y_pred, squared=False) # RMSE"
      ],
      "metadata": {
        "id": "TZJrm6CFeuGb",
        "colab": {
          "base_uri": "https://localhost:8080/"
        },
        "outputId": "a186bf6a-ccf1-459b-faa9-00a0c9810e3e"
      },
      "execution_count": null,
      "outputs": [
        {
          "output_type": "execute_result",
          "data": {
            "text/plain": [
              "3.1654936785098036"
            ]
          },
          "metadata": {},
          "execution_count": 27
        }
      ]
    },
    {
      "cell_type": "code",
      "source": [
        "from sklearn.metrics import r2_score\n",
        "r2_score(y_test, y_pred) # R2"
      ],
      "metadata": {
        "id": "GcGSHK_gevwn",
        "colab": {
          "base_uri": "https://localhost:8080/"
        },
        "outputId": "68b7e9dc-c545-421b-a121-3f6f37d0e897"
      },
      "execution_count": null,
      "outputs": [
        {
          "output_type": "execute_result",
          "data": {
            "text/plain": [
              "0.9515806736585357"
            ]
          },
          "metadata": {},
          "execution_count": 28
        }
      ]
    },
    {
      "cell_type": "code",
      "source": [
        "new_data = pd.DataFrame([[19.5, 0, 70.0, 1, 0, 1, 1, 0]], columns=['n_student', 'lunch', 'pretest', 'gender_Male', 'school_setting_Suburban', 'school_setting_Urban', 'school_type_Public', 'teaching_method_Standard'])\n",
        "pred1 = reg.predict(new_data)\n",
        "pred1"
      ],
      "metadata": {
        "id": "ZdydICKW3TsG",
        "colab": {
          "base_uri": "https://localhost:8080/"
        },
        "outputId": "d426adf4-cb28-4988-8d81-f6db04c9e977"
      },
      "execution_count": null,
      "outputs": [
        {
          "output_type": "stream",
          "name": "stderr",
          "text": [
            "/usr/local/lib/python3.9/dist-packages/sklearn/base.py:432: UserWarning: X has feature names, but LinearRegression was fitted without feature names\n",
            "  warnings.warn(\n"
          ]
        },
        {
          "output_type": "execute_result",
          "data": {
            "text/plain": [
              "array([31.6690008])"
            ]
          },
          "metadata": {},
          "execution_count": 29
        }
      ]
    },
    {
      "cell_type": "code",
      "source": [
        "!pip install mlxtend -q\n",
        "\n",
        "from google.colab import files\n",
        "import joblib # pkl 세이브파일을 만들어주는 라이브러리\n",
        "\n",
        "\n",
        "joblib.dump(reg, 'multi_LinearRegression_model.pkl')\n",
        "\n",
        "files.download('multi_LinearRegression_model.pkl') # 다운로드\n",
        "model_from_joblib = joblib.load('multi_LinearRegression_model.pkl')\n",
        "model_from_joblib"
      ],
      "metadata": {
        "id": "bvYVmsY8EPg5",
        "colab": {
          "base_uri": "https://localhost:8080/",
          "height": 75
        },
        "outputId": "89dc2150-012f-45f5-8b8a-cdf8d4a7cac5"
      },
      "execution_count": null,
      "outputs": [
        {
          "output_type": "display_data",
          "data": {
            "text/plain": [
              "<IPython.core.display.Javascript object>"
            ],
            "application/javascript": [
              "\n",
              "    async function download(id, filename, size) {\n",
              "      if (!google.colab.kernel.accessAllowed) {\n",
              "        return;\n",
              "      }\n",
              "      const div = document.createElement('div');\n",
              "      const label = document.createElement('label');\n",
              "      label.textContent = `Downloading \"${filename}\": `;\n",
              "      div.appendChild(label);\n",
              "      const progress = document.createElement('progress');\n",
              "      progress.max = size;\n",
              "      div.appendChild(progress);\n",
              "      document.body.appendChild(div);\n",
              "\n",
              "      const buffers = [];\n",
              "      let downloaded = 0;\n",
              "\n",
              "      const channel = await google.colab.kernel.comms.open(id);\n",
              "      // Send a message to notify the kernel that we're ready.\n",
              "      channel.send({})\n",
              "\n",
              "      for await (const message of channel.messages) {\n",
              "        // Send a message to notify the kernel that we're ready.\n",
              "        channel.send({})\n",
              "        if (message.buffers) {\n",
              "          for (const buffer of message.buffers) {\n",
              "            buffers.push(buffer);\n",
              "            downloaded += buffer.byteLength;\n",
              "            progress.value = downloaded;\n",
              "          }\n",
              "        }\n",
              "      }\n",
              "      const blob = new Blob(buffers, {type: 'application/binary'});\n",
              "      const a = document.createElement('a');\n",
              "      a.href = window.URL.createObjectURL(blob);\n",
              "      a.download = filename;\n",
              "      div.appendChild(a);\n",
              "      a.click();\n",
              "      div.remove();\n",
              "    }\n",
              "  "
            ]
          },
          "metadata": {}
        },
        {
          "output_type": "display_data",
          "data": {
            "text/plain": [
              "<IPython.core.display.Javascript object>"
            ],
            "application/javascript": [
              "download(\"download_aca2b65b-8f98-4119-b5d0-774d81b87361\", \"multi_LinearRegression_model.pkl\", 608)"
            ]
          },
          "metadata": {}
        },
        {
          "output_type": "execute_result",
          "data": {
            "text/plain": [
              "LinearRegression()"
            ],
            "text/html": [
              "<style>#sk-container-id-2 {color: black;background-color: white;}#sk-container-id-2 pre{padding: 0;}#sk-container-id-2 div.sk-toggleable {background-color: white;}#sk-container-id-2 label.sk-toggleable__label {cursor: pointer;display: block;width: 100%;margin-bottom: 0;padding: 0.3em;box-sizing: border-box;text-align: center;}#sk-container-id-2 label.sk-toggleable__label-arrow:before {content: \"▸\";float: left;margin-right: 0.25em;color: #696969;}#sk-container-id-2 label.sk-toggleable__label-arrow:hover:before {color: black;}#sk-container-id-2 div.sk-estimator:hover label.sk-toggleable__label-arrow:before {color: black;}#sk-container-id-2 div.sk-toggleable__content {max-height: 0;max-width: 0;overflow: hidden;text-align: left;background-color: #f0f8ff;}#sk-container-id-2 div.sk-toggleable__content pre {margin: 0.2em;color: black;border-radius: 0.25em;background-color: #f0f8ff;}#sk-container-id-2 input.sk-toggleable__control:checked~div.sk-toggleable__content {max-height: 200px;max-width: 100%;overflow: auto;}#sk-container-id-2 input.sk-toggleable__control:checked~label.sk-toggleable__label-arrow:before {content: \"▾\";}#sk-container-id-2 div.sk-estimator input.sk-toggleable__control:checked~label.sk-toggleable__label {background-color: #d4ebff;}#sk-container-id-2 div.sk-label input.sk-toggleable__control:checked~label.sk-toggleable__label {background-color: #d4ebff;}#sk-container-id-2 input.sk-hidden--visually {border: 0;clip: rect(1px 1px 1px 1px);clip: rect(1px, 1px, 1px, 1px);height: 1px;margin: -1px;overflow: hidden;padding: 0;position: absolute;width: 1px;}#sk-container-id-2 div.sk-estimator {font-family: monospace;background-color: #f0f8ff;border: 1px dotted black;border-radius: 0.25em;box-sizing: border-box;margin-bottom: 0.5em;}#sk-container-id-2 div.sk-estimator:hover {background-color: #d4ebff;}#sk-container-id-2 div.sk-parallel-item::after {content: \"\";width: 100%;border-bottom: 1px solid gray;flex-grow: 1;}#sk-container-id-2 div.sk-label:hover label.sk-toggleable__label {background-color: #d4ebff;}#sk-container-id-2 div.sk-serial::before {content: \"\";position: absolute;border-left: 1px solid gray;box-sizing: border-box;top: 0;bottom: 0;left: 50%;z-index: 0;}#sk-container-id-2 div.sk-serial {display: flex;flex-direction: column;align-items: center;background-color: white;padding-right: 0.2em;padding-left: 0.2em;position: relative;}#sk-container-id-2 div.sk-item {position: relative;z-index: 1;}#sk-container-id-2 div.sk-parallel {display: flex;align-items: stretch;justify-content: center;background-color: white;position: relative;}#sk-container-id-2 div.sk-item::before, #sk-container-id-2 div.sk-parallel-item::before {content: \"\";position: absolute;border-left: 1px solid gray;box-sizing: border-box;top: 0;bottom: 0;left: 50%;z-index: -1;}#sk-container-id-2 div.sk-parallel-item {display: flex;flex-direction: column;z-index: 1;position: relative;background-color: white;}#sk-container-id-2 div.sk-parallel-item:first-child::after {align-self: flex-end;width: 50%;}#sk-container-id-2 div.sk-parallel-item:last-child::after {align-self: flex-start;width: 50%;}#sk-container-id-2 div.sk-parallel-item:only-child::after {width: 0;}#sk-container-id-2 div.sk-dashed-wrapped {border: 1px dashed gray;margin: 0 0.4em 0.5em 0.4em;box-sizing: border-box;padding-bottom: 0.4em;background-color: white;}#sk-container-id-2 div.sk-label label {font-family: monospace;font-weight: bold;display: inline-block;line-height: 1.2em;}#sk-container-id-2 div.sk-label-container {text-align: center;}#sk-container-id-2 div.sk-container {/* jupyter's `normalize.less` sets `[hidden] { display: none; }` but bootstrap.min.css set `[hidden] { display: none !important; }` so we also need the `!important` here to be able to override the default hidden behavior on the sphinx rendered scikit-learn.org. See: https://github.com/scikit-learn/scikit-learn/issues/21755 */display: inline-block !important;position: relative;}#sk-container-id-2 div.sk-text-repr-fallback {display: none;}</style><div id=\"sk-container-id-2\" class=\"sk-top-container\"><div class=\"sk-text-repr-fallback\"><pre>LinearRegression()</pre><b>In a Jupyter environment, please rerun this cell to show the HTML representation or trust the notebook. <br />On GitHub, the HTML representation is unable to render, please try loading this page with nbviewer.org.</b></div><div class=\"sk-container\" hidden><div class=\"sk-item\"><div class=\"sk-estimator sk-toggleable\"><input class=\"sk-toggleable__control sk-hidden--visually\" id=\"sk-estimator-id-2\" type=\"checkbox\" checked><label for=\"sk-estimator-id-2\" class=\"sk-toggleable__label sk-toggleable__label-arrow\">LinearRegression</label><div class=\"sk-toggleable__content\"><pre>LinearRegression()</pre></div></div></div></div></div>"
            ]
          },
          "metadata": {},
          "execution_count": 30
        }
      ]
    }
  ]
}